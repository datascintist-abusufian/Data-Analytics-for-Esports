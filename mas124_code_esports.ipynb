{
 "cells": [
  {
   "cell_type": "markdown",
   "metadata": {},
   "source": [
    "<font size = 4><b>Import Required Libraries"
   ]
  },
  {
   "cell_type": "code",
   "execution_count": 17,
   "metadata": {},
   "outputs": [],
   "source": [
    "import pandas as pd\n",
    "import numpy as np\n",
    "import matplotlib.pyplot as plt #visualization\n",
    "import seaborn as sns #visualization\n",
    "%matplotlib inline \n",
    "sns.set(context=\"notebook\",style=\"white\",palette=\"dark\")\n",
    "plt.style.use('ggplot')\n",
    "\n",
    "import numpy as np #for scientific computations\n",
    "\n",
    "from sklearn.model_selection import train_test_split #for train and test split\n",
    "from sklearn.metrics import r2_score #R-squared\n",
    "# Disable warnings\n",
    "import warnings\n",
    "warnings.filterwarnings('ignore')"
   ]
  },
  {
   "cell_type": "markdown",
   "metadata": {},
   "source": [
    "<font size = 4><b>Read the dataset"
   ]
  },
  {
   "cell_type": "code",
   "execution_count": 47,
   "metadata": {},
   "outputs": [
    {
     "name": "stdout",
     "output_type": "stream",
     "text": [
      "(6648, 6)\n"
     ]
    },
    {
     "data": {
      "text/html": [
       "<div>\n",
       "<style scoped>\n",
       "    .dataframe tbody tr th:only-of-type {\n",
       "        vertical-align: middle;\n",
       "    }\n",
       "\n",
       "    .dataframe tbody tr th {\n",
       "        vertical-align: top;\n",
       "    }\n",
       "\n",
       "    .dataframe thead th {\n",
       "        text-align: right;\n",
       "    }\n",
       "</style>\n",
       "<table border=\"1\" class=\"dataframe\">\n",
       "  <thead>\n",
       "    <tr style=\"text-align: right;\">\n",
       "      <th></th>\n",
       "      <th>Date</th>\n",
       "      <th>Game</th>\n",
       "      <th>Earnings</th>\n",
       "      <th>Players</th>\n",
       "      <th>Tournaments</th>\n",
       "      <th>Merchandise Profit</th>\n",
       "    </tr>\n",
       "  </thead>\n",
       "  <tbody>\n",
       "    <tr>\n",
       "      <th>0</th>\n",
       "      <td>1 01 1998</td>\n",
       "      <td>QuakeWorld</td>\n",
       "      <td>15000.0</td>\n",
       "      <td>8</td>\n",
       "      <td>1</td>\n",
       "      <td>3000.0</td>\n",
       "    </tr>\n",
       "    <tr>\n",
       "      <th>1</th>\n",
       "      <td>1 05 1998</td>\n",
       "      <td>Quake II</td>\n",
       "      <td>14600.0</td>\n",
       "      <td>4</td>\n",
       "      <td>1</td>\n",
       "      <td>2920.0</td>\n",
       "    </tr>\n",
       "    <tr>\n",
       "      <th>2</th>\n",
       "      <td>1 07 1998</td>\n",
       "      <td>Quake II</td>\n",
       "      <td>15000.0</td>\n",
       "      <td>5</td>\n",
       "      <td>1</td>\n",
       "      <td>3000.0</td>\n",
       "    </tr>\n",
       "    <tr>\n",
       "      <th>3</th>\n",
       "      <td>1 07 1998</td>\n",
       "      <td>QuakeWorld</td>\n",
       "      <td>6500.0</td>\n",
       "      <td>4</td>\n",
       "      <td>1</td>\n",
       "      <td>1300.0</td>\n",
       "    </tr>\n",
       "    <tr>\n",
       "      <th>4</th>\n",
       "      <td>1 11 1998</td>\n",
       "      <td>Quake II</td>\n",
       "      <td>36600.0</td>\n",
       "      <td>13</td>\n",
       "      <td>2</td>\n",
       "      <td>7320.0</td>\n",
       "    </tr>\n",
       "  </tbody>\n",
       "</table>\n",
       "</div>"
      ],
      "text/plain": [
       "        Date        Game  Earnings  Players  Tournaments  Merchandise Profit\n",
       "0  1 01 1998  QuakeWorld   15000.0        8            1              3000.0\n",
       "1  1 05 1998    Quake II   14600.0        4            1              2920.0\n",
       "2  1 07 1998    Quake II   15000.0        5            1              3000.0\n",
       "3  1 07 1998  QuakeWorld    6500.0        4            1              1300.0\n",
       "4  1 11 1998    Quake II   36600.0       13            2              7320.0"
      ]
     },
     "execution_count": 47,
     "metadata": {},
     "output_type": "execute_result"
    }
   ],
   "source": [
    "df = pd.read_excel('final ml data converted (1).xlsx')\n",
    "print(df.shape)\n",
    "df.head()"
   ]
  },
  {
   "cell_type": "code",
   "execution_count": 74,
   "metadata": {},
   "outputs": [],
   "source": [
    "import datetime as dt\n",
    "df['Date'] = pd.to_datetime(df['Date'])\n",
    "df['Date']= df['Date'].map(dt.datetime.toordinal)"
   ]
  },
  {
   "cell_type": "markdown",
   "metadata": {},
   "source": [
    "<font size = 4><b> Dealing with missing values."
   ]
  },
  {
   "cell_type": "code",
   "execution_count": 75,
   "metadata": {},
   "outputs": [
    {
     "data": {
      "text/html": [
       "<div>\n",
       "<style scoped>\n",
       "    .dataframe tbody tr th:only-of-type {\n",
       "        vertical-align: middle;\n",
       "    }\n",
       "\n",
       "    .dataframe tbody tr th {\n",
       "        vertical-align: top;\n",
       "    }\n",
       "\n",
       "    .dataframe thead th {\n",
       "        text-align: right;\n",
       "    }\n",
       "</style>\n",
       "<table border=\"1\" class=\"dataframe\">\n",
       "  <thead>\n",
       "    <tr style=\"text-align: right;\">\n",
       "      <th></th>\n",
       "      <th>Missing Values</th>\n",
       "    </tr>\n",
       "  </thead>\n",
       "  <tbody>\n",
       "    <tr>\n",
       "      <th>Game</th>\n",
       "      <td>40</td>\n",
       "    </tr>\n",
       "    <tr>\n",
       "      <th>Merchandise Profit</th>\n",
       "      <td>0</td>\n",
       "    </tr>\n",
       "    <tr>\n",
       "      <th>Tournaments</th>\n",
       "      <td>0</td>\n",
       "    </tr>\n",
       "    <tr>\n",
       "      <th>Players</th>\n",
       "      <td>0</td>\n",
       "    </tr>\n",
       "    <tr>\n",
       "      <th>Earnings</th>\n",
       "      <td>0</td>\n",
       "    </tr>\n",
       "    <tr>\n",
       "      <th>Date</th>\n",
       "      <td>0</td>\n",
       "    </tr>\n",
       "  </tbody>\n",
       "</table>\n",
       "</div>"
      ],
      "text/plain": [
       "                    Missing Values\n",
       "Game                            40\n",
       "Merchandise Profit               0\n",
       "Tournaments                      0\n",
       "Players                          0\n",
       "Earnings                         0\n",
       "Date                             0"
      ]
     },
     "execution_count": 75,
     "metadata": {},
     "output_type": "execute_result"
    }
   ],
   "source": [
    "#The features with missing values\n",
    "total = df.isnull().sum().sort_values(ascending=False)\n",
    "missing_data = pd.DataFrame(total, columns = [\"Missing Values\"])\n",
    "missing_data"
   ]
  },
  {
   "cell_type": "markdown",
   "metadata": {},
   "source": [
    "__Inference:__ The __\"Game\"__ feature has 40 missing values, which needs to be filled. As the number of missing values is negligible in comparison to total number of row(6,648), we'll simply drop the rows that contain missing values."
   ]
  },
  {
   "cell_type": "code",
   "execution_count": 76,
   "metadata": {},
   "outputs": [
    {
     "data": {
      "text/plain": [
       "Date                  0\n",
       "Game                  0\n",
       "Earnings              0\n",
       "Players               0\n",
       "Tournaments           0\n",
       "Merchandise Profit    0\n",
       "dtype: int64"
      ]
     },
     "execution_count": 76,
     "metadata": {},
     "output_type": "execute_result"
    }
   ],
   "source": [
    "## features with missing values\n",
    "df = df.dropna()\n",
    "\n",
    "##Check if any column still contain missing values\n",
    "df.isnull().sum()"
   ]
  },
  {
   "cell_type": "markdown",
   "metadata": {},
   "source": [
    "<font size = 4><b> Descriptive statistics "
   ]
  },
  {
   "cell_type": "markdown",
   "metadata": {},
   "source": [
    "A great way to start descriptive analysis is by simply looking at what kind of ranges each feature has and how much they vary around their average values."
   ]
  },
  {
   "cell_type": "code",
   "execution_count": 77,
   "metadata": {},
   "outputs": [
    {
     "data": {
      "text/html": [
       "<div>\n",
       "<style scoped>\n",
       "    .dataframe tbody tr th:only-of-type {\n",
       "        vertical-align: middle;\n",
       "    }\n",
       "\n",
       "    .dataframe tbody tr th {\n",
       "        vertical-align: top;\n",
       "    }\n",
       "\n",
       "    .dataframe thead th {\n",
       "        text-align: right;\n",
       "    }\n",
       "</style>\n",
       "<table border=\"1\" class=\"dataframe\">\n",
       "  <thead>\n",
       "    <tr style=\"text-align: right;\">\n",
       "      <th></th>\n",
       "      <th>Date</th>\n",
       "      <th>Earnings</th>\n",
       "      <th>Players</th>\n",
       "      <th>Tournaments</th>\n",
       "      <th>Merchandise Profit</th>\n",
       "    </tr>\n",
       "  </thead>\n",
       "  <tbody>\n",
       "    <tr>\n",
       "      <th>count</th>\n",
       "      <td>6608.000000</td>\n",
       "      <td>6.608000e+03</td>\n",
       "      <td>6608.000000</td>\n",
       "      <td>6608.000000</td>\n",
       "      <td>6.608000e+03</td>\n",
       "    </tr>\n",
       "    <tr>\n",
       "      <th>mean</th>\n",
       "      <td>735361.416919</td>\n",
       "      <td>1.395547e+05</td>\n",
       "      <td>50.306447</td>\n",
       "      <td>6.516041</td>\n",
       "      <td>2.791095e+04</td>\n",
       "    </tr>\n",
       "    <tr>\n",
       "      <th>std</th>\n",
       "      <td>1808.829359</td>\n",
       "      <td>9.335545e+05</td>\n",
       "      <td>115.827007</td>\n",
       "      <td>12.273671</td>\n",
       "      <td>1.867109e+05</td>\n",
       "    </tr>\n",
       "    <tr>\n",
       "      <th>min</th>\n",
       "      <td>729390.000000</td>\n",
       "      <td>0.000000e+00</td>\n",
       "      <td>0.000000</td>\n",
       "      <td>1.000000</td>\n",
       "      <td>0.000000e+00</td>\n",
       "    </tr>\n",
       "    <tr>\n",
       "      <th>25%</th>\n",
       "      <td>734148.000000</td>\n",
       "      <td>1.000000e+03</td>\n",
       "      <td>5.000000</td>\n",
       "      <td>1.000000</td>\n",
       "      <td>2.000000e+02</td>\n",
       "    </tr>\n",
       "    <tr>\n",
       "      <th>50%</th>\n",
       "      <td>735965.000000</td>\n",
       "      <td>9.498000e+03</td>\n",
       "      <td>15.000000</td>\n",
       "      <td>2.000000</td>\n",
       "      <td>1.899600e+03</td>\n",
       "    </tr>\n",
       "    <tr>\n",
       "      <th>75%</th>\n",
       "      <td>736705.000000</td>\n",
       "      <td>5.283502e+04</td>\n",
       "      <td>42.000000</td>\n",
       "      <td>6.000000</td>\n",
       "      <td>1.056700e+04</td>\n",
       "    </tr>\n",
       "    <tr>\n",
       "      <th>max</th>\n",
       "      <td>737793.000000</td>\n",
       "      <td>3.671356e+07</td>\n",
       "      <td>1699.000000</td>\n",
       "      <td>172.000000</td>\n",
       "      <td>7.342711e+06</td>\n",
       "    </tr>\n",
       "  </tbody>\n",
       "</table>\n",
       "</div>"
      ],
      "text/plain": [
       "                Date      Earnings      Players  Tournaments  \\\n",
       "count    6608.000000  6.608000e+03  6608.000000  6608.000000   \n",
       "mean   735361.416919  1.395547e+05    50.306447     6.516041   \n",
       "std      1808.829359  9.335545e+05   115.827007    12.273671   \n",
       "min    729390.000000  0.000000e+00     0.000000     1.000000   \n",
       "25%    734148.000000  1.000000e+03     5.000000     1.000000   \n",
       "50%    735965.000000  9.498000e+03    15.000000     2.000000   \n",
       "75%    736705.000000  5.283502e+04    42.000000     6.000000   \n",
       "max    737793.000000  3.671356e+07  1699.000000   172.000000   \n",
       "\n",
       "       Merchandise Profit  \n",
       "count        6.608000e+03  \n",
       "mean         2.791095e+04  \n",
       "std          1.867109e+05  \n",
       "min          0.000000e+00  \n",
       "25%          2.000000e+02  \n",
       "50%          1.899600e+03  \n",
       "75%          1.056700e+04  \n",
       "max          7.342711e+06  "
      ]
     },
     "execution_count": 77,
     "metadata": {},
     "output_type": "execute_result"
    }
   ],
   "source": [
    "df.describe()"
   ]
  },
  {
   "cell_type": "markdown",
   "metadata": {},
   "source": [
    "__Inference:__ \\\n",
    "This instantly provide us some information about the Merchandise Profit in dataset. We can see that maximum profit for Merchandise from any game is 7.3 million Dollars while the minimum profit is even Zero percent."
   ]
  },
  {
   "cell_type": "markdown",
   "metadata": {},
   "source": [
    "<font size = 4><B> Descriptive Analysis using Visualisation\n"
   ]
  },
  {
   "cell_type": "markdown",
   "metadata": {},
   "source": [
    "<font size = 3><b> Checking for correlations among features"
   ]
  },
  {
   "cell_type": "code",
   "execution_count": 79,
   "metadata": {},
   "outputs": [
    {
     "data": {
      "image/png": "[encoded data removed]",
      "text/plain": [
       "<Figure size 576x432 with 2 Axes>"
      ]
     },
     "metadata": {},
     "output_type": "display_data"
    }
   ],
   "source": [
    "#Let's visualize correlations\n",
    "plt.figure(figsize=(8, 6))\n",
    "heatmap = sns.heatmap(df.corr(), vmin=-1, vmax=1, annot=True, cmap='BrBG')\n",
    "heatmap.set_title('Correlation of features in data', fontdict={'fontsize':18}, pad=16)\n",
    "plt.yticks(rotation = 45)\n",
    "plt.xticks(rotation = 45);"
   ]
  },
  {
   "cell_type": "markdown",
   "metadata": {},
   "source": [
    "__Inference:__ The features with darker green color have higher correlation with Merchandise Profit while the features with lighter color have lower correaltion. It is clear from the above figure that __Merchnadise Revenue/Profit__ have strong correlation with __Earnings from E-sports.__ "
   ]
  },
  {
   "cell_type": "markdown",
   "metadata": {},
   "source": [
    "<font size = 4><B> Information about features in data"
   ]
  },
  {
   "cell_type": "code",
   "execution_count": 59,
   "metadata": {},
   "outputs": [
    {
     "name": "stdout",
     "output_type": "stream",
     "text": [
      "<class 'pandas.core.frame.DataFrame'>\n",
      "RangeIndex: 6648 entries, 0 to 6647\n",
      "Data columns (total 6 columns):\n",
      " #   Column              Non-Null Count  Dtype  \n",
      "---  ------              --------------  -----  \n",
      " 0   Date                6648 non-null   object \n",
      " 1   Game                6608 non-null   object \n",
      " 2   Earnings            6648 non-null   float64\n",
      " 3   Players             6648 non-null   int64  \n",
      " 4   Tournaments         6648 non-null   int64  \n",
      " 5   Merchandise Profit  6648 non-null   float64\n",
      "dtypes: float64(2), int64(2), object(2)\n",
      "memory usage: 311.8+ KB\n"
     ]
    }
   ],
   "source": [
    "df.info()"
   ]
  },
  {
   "cell_type": "code",
   "execution_count": 80,
   "metadata": {},
   "outputs": [
    {
     "data": {
      "image/png": "[encoded data removed]",
      "text/plain": [
       "<Figure size 1440x1440 with 3 Axes>"
      ]
     },
     "metadata": {},
     "output_type": "display_data"
    }
   ],
   "source": [
    "plt.figure(figsize=(20, 20))\n",
    "\n",
    "for e, column in enumerate(['Earnings','Players','Tournaments']):\n",
    "    plt.subplot(4, 3, e + 1)\n",
    "    sns.regplot( data= df, x=column, y='Merchandise Profit', line_kws={\"color\": \"red\"})"
   ]
  },
  {
   "cell_type": "markdown",
   "metadata": {},
   "source": [
    "__Inference:__ From the above graphs, we can depict that each of them Earnings, players and Tournaments have positive linear relationship with the Merchandise Profit. So, these three features will be very important in developing Regression Model for predictive analysis."
   ]
  },
  {
   "cell_type": "markdown",
   "metadata": {},
   "source": [
    "<font size = 5> <b> Correlation Tests  </b> </font>     \n",
    "\n"
   ]
  },
  {
   "cell_type": "markdown",
   "metadata": {},
   "source": [
    "Tests whether two samples have a linear relationship."
   ]
  },
  {
   "cell_type": "markdown",
   "metadata": {},
   "source": [
    "<font size = 3> <b> Null Hypothesis and Alternate Hypothesis:</b><br></font>\n",
    "<br>\n",
    "For our Pearson test for Correaltion here: <br>\n",
    "__Null Hypothesis:__ The null hypothesis is that there is no significant relationship between __\"Earnings\"__ from the E-sports and __\"Merchandise Profit\"__. <br>\n",
    "__Alternative Hypothesis:__ There is significant relationship between __Earnings__ of E-sports and __Merchandise profit__ in our data."
   ]
  },
  {
   "cell_type": "code",
   "execution_count": 25,
   "metadata": {},
   "outputs": [
    {
     "name": "stdout",
     "output_type": "stream",
     "text": [
      "stat=1.000, p=0.000\n",
      "Dependent (reject H0)\n"
     ]
    }
   ],
   "source": [
    "\n",
    "# Example of the Pearson's Correlation test\n",
    "from scipy.stats import pearsonr\n",
    "data1 = df['Earnings']\n",
    "data2 = df['Merchandise Profit']\n",
    "stat, p = pearsonr(data1, data2)\n",
    "\n",
    "# Hypothesis test at significance level of 0.05  \n",
    "# interpret p-value\n",
    "print('stat=%.3f, p=%.3f' % (stat, p))\n",
    "if p > 0.05:\n",
    "    print('Independent (H0 holds true)')\n",
    "else:\n",
    "    print('Dependent (reject H0)')"
   ]
  },
  {
   "cell_type": "markdown",
   "metadata": {},
   "source": [
    "__Inference:__ <br>The p-value of 0.000 which is much lower 0.05, so at the significance level of 0.05, we reject the Null Hypothesis and __accept Alternative Hypothesis__ that states There is significant relationship between __Earnings__ from E-sports and __Merchandise Profit__. So, we conclude that when the Earnings from the games competition increases, the Merchandise Profit increases as well"
   ]
  },
  {
   "cell_type": "code",
   "execution_count": 53,
   "metadata": {},
   "outputs": [
    {
     "data": {
      "text/html": [
       "<div>\n",
       "<style scoped>\n",
       "    .dataframe tbody tr th:only-of-type {\n",
       "        vertical-align: middle;\n",
       "    }\n",
       "\n",
       "    .dataframe tbody tr th {\n",
       "        vertical-align: top;\n",
       "    }\n",
       "\n",
       "    .dataframe thead th {\n",
       "        text-align: right;\n",
       "    }\n",
       "</style>\n",
       "<table border=\"1\" class=\"dataframe\">\n",
       "  <thead>\n",
       "    <tr style=\"text-align: right;\">\n",
       "      <th></th>\n",
       "      <th>Earnings</th>\n",
       "      <th>Merchandise Profit</th>\n",
       "    </tr>\n",
       "    <tr>\n",
       "      <th>Game</th>\n",
       "      <th></th>\n",
       "      <th></th>\n",
       "    </tr>\n",
       "  </thead>\n",
       "  <tbody>\n",
       "    <tr>\n",
       "      <th>Dota 2</th>\n",
       "      <td>2.313352e+08</td>\n",
       "      <td>4.626705e+07</td>\n",
       "    </tr>\n",
       "    <tr>\n",
       "      <th>Counter-Strike: Global Offensive</th>\n",
       "      <td>1.109864e+08</td>\n",
       "      <td>2.219728e+07</td>\n",
       "    </tr>\n",
       "    <tr>\n",
       "      <th>Fortnite</th>\n",
       "      <td>1.023435e+08</td>\n",
       "      <td>2.046869e+07</td>\n",
       "    </tr>\n",
       "    <tr>\n",
       "      <th>League of Legends</th>\n",
       "      <td>8.225516e+07</td>\n",
       "      <td>1.645103e+07</td>\n",
       "    </tr>\n",
       "    <tr>\n",
       "      <th>StarCraft II</th>\n",
       "      <td>3.473507e+07</td>\n",
       "      <td>6.947015e+06</td>\n",
       "    </tr>\n",
       "    <tr>\n",
       "      <th>...</th>\n",
       "      <td>...</td>\n",
       "      <td>...</td>\n",
       "    </tr>\n",
       "    <tr>\n",
       "      <th>Mortal Kombat vs. DC Universe</th>\n",
       "      <td>0.000000e+00</td>\n",
       "      <td>0.000000e+00</td>\n",
       "    </tr>\n",
       "    <tr>\n",
       "      <th>Dead or Alive 5</th>\n",
       "      <td>0.000000e+00</td>\n",
       "      <td>0.000000e+00</td>\n",
       "    </tr>\n",
       "    <tr>\n",
       "      <th>Dead or Alive 5 Ultimate</th>\n",
       "      <td>0.000000e+00</td>\n",
       "      <td>0.000000e+00</td>\n",
       "    </tr>\n",
       "    <tr>\n",
       "      <th>Melty Blood: Actress Again</th>\n",
       "      <td>0.000000e+00</td>\n",
       "      <td>0.000000e+00</td>\n",
       "    </tr>\n",
       "    <tr>\n",
       "      <th>Guilty Gear XX Accent Core Plus</th>\n",
       "      <td>0.000000e+00</td>\n",
       "      <td>0.000000e+00</td>\n",
       "    </tr>\n",
       "  </tbody>\n",
       "</table>\n",
       "<p>486 rows × 2 columns</p>\n",
       "</div>"
      ],
      "text/plain": [
       "                                      Earnings  Merchandise Profit\n",
       "Game                                                              \n",
       "Dota 2                            2.313352e+08        4.626705e+07\n",
       "Counter-Strike: Global Offensive  1.109864e+08        2.219728e+07\n",
       "Fortnite                          1.023435e+08        2.046869e+07\n",
       "League of Legends                 8.225516e+07        1.645103e+07\n",
       "StarCraft II                      3.473507e+07        6.947015e+06\n",
       "...                                        ...                 ...\n",
       "Mortal Kombat vs. DC Universe     0.000000e+00        0.000000e+00\n",
       "Dead or Alive 5                   0.000000e+00        0.000000e+00\n",
       "Dead or Alive 5 Ultimate          0.000000e+00        0.000000e+00\n",
       "Melty Blood: Actress Again        0.000000e+00        0.000000e+00\n",
       "Guilty Gear XX Accent Core Plus   0.000000e+00        0.000000e+00\n",
       "\n",
       "[486 rows x 2 columns]"
      ]
     },
     "execution_count": 53,
     "metadata": {},
     "output_type": "execute_result"
    }
   ],
   "source": [
    "pivot_table =pd.pivot_table(df,index=[\"Game\"],values=[\"Earnings\", \"Merchandise Profit\"],aggfunc=np.sum).sort_values(by = ['Merchandise Profit'], ascending=False)\n",
    "pivot_table"
   ]
  },
  {
   "cell_type": "markdown",
   "metadata": {},
   "source": [
    "<font size = 5><B>Regression model\n"
   ]
  },
  {
   "cell_type": "markdown",
   "metadata": {},
   "source": [
    "We need to develop a regression model that predicts the Merchandise based on different features mainly the historic Earnings of Merchandise.\n",
    "If we look at correlation figure above, we can observe that most of the features have postive correaltion with Merchadise Profit except for Date feature. So, we'll use onyl those feature/variables, that have higher impact on Profits."
   ]
  },
  {
   "cell_type": "markdown",
   "metadata": {},
   "source": [
    "### Seperate Dependent and Independent variables"
   ]
  },
  {
   "cell_type": "code",
   "execution_count": 26,
   "metadata": {},
   "outputs": [],
   "source": [
    "X = df.drop([\"Date\",\"Game\"], axis=1)\n",
    "y = df[\"Merchandise Profit\"]"
   ]
  },
  {
   "cell_type": "markdown",
   "metadata": {},
   "source": [
    "### Divide the data set into Training set and Test set"
   ]
  },
  {
   "cell_type": "code",
   "execution_count": 27,
   "metadata": {},
   "outputs": [],
   "source": [
    "#Divide the independent and dependent variables into training and testing sets(with 25% data for test set)\n",
    "X_train, X_test, y_train, y_test = train_test_split(X, y, test_size=0.25, random_state=42)"
   ]
  },
  {
   "cell_type": "code",
   "execution_count": 28,
   "metadata": {},
   "outputs": [],
   "source": [
    "#function for evaluation of model\n",
    "def result(y_test,y_pred):\n",
    "    r=[]\n",
    "    r.append(r2_score(y_test,y_pred))\n",
    "    r.append(round(r2_score(y_test,y_pred)*100,4))\n",
    "    return (r)\n",
    "\n",
    "#dataframe that store the performance of each model\n",
    "accu=pd.DataFrame(index=[ 'R2 Score','Accuracy(%)'])"
   ]
  },
  {
   "cell_type": "markdown",
   "metadata": {},
   "source": [
    "## Linear Regression, Random Forest Algorithm"
   ]
  },
  {
   "cell_type": "markdown",
   "metadata": {},
   "source": [
    "### Creating the model"
   ]
  },
  {
   "cell_type": "code",
   "execution_count": 29,
   "metadata": {},
   "outputs": [],
   "source": [
    "#libraries for models\n",
    "from sklearn.ensemble import RandomForestRegressor\n",
    "\n",
    "#fitting model\n",
    "RFR = RandomForestRegressor(n_estimators=180,random_state=0, min_samples_leaf=1, max_features=0.5, n_jobs=-1, oob_score=True)\n",
    "RFR.fit(X_train,y_train)\n",
    "y_pred = RFR.predict(X_test)"
   ]
  },
  {
   "cell_type": "markdown",
   "metadata": {},
   "source": [
    "<h3>Measures for In-Sample Evaluation</h3>"
   ]
  },
  {
   "cell_type": "markdown",
   "metadata": {},
   "source": [
    "<p>When evaluating our models, not only do we want to visualize the results, but we also want a quantitative measure to determine how accurate the model is.</p>\n",
    "\n",
    "<p>One of the very important measures that is often used in Statistics to determine the accuracy of a model is:</p>\n",
    "<ul>\n",
    "    <li><b>R^2 / R-squared</b></li>\n",
    "</ul>\n",
    "    \n",
    "<b>R-squared</b>\n",
    "\n",
    "<p>R squared, also known as the coefficient of determination, is a measure to indicate how close the data is to the fitted regression line.</p>\n",
    "    \n",
    "<p>The value of the R-squared is the percentage of variation of the response variable (y) that is explained by a linear model.</p>"
   ]
  },
  {
   "cell_type": "code",
   "execution_count": 30,
   "metadata": {},
   "outputs": [
    {
     "name": "stdout",
     "output_type": "stream",
     "text": [
      "R2 Score : 0.995198889638211 or 99.5199%\n"
     ]
    }
   ],
   "source": [
    "r5_rf=result(y_test,y_pred)\n",
    "print(\"R2 Score : {} or {}%\".format(r5_rf[0],r5_rf[1]))\n",
    "accu['RandomForest Regressor']=r5_rf"
   ]
  },
  {
   "cell_type": "markdown",
   "metadata": {},
   "source": [
    "One way to look at the fit of the model is by looking at the <b>Actual vs Predicted barplot</b>: We can look at the accurracy of the forecasted values that result from the model and compare it to the actual values.</p>"
   ]
  },
  {
   "cell_type": "code",
   "execution_count": 31,
   "metadata": {},
   "outputs": [
    {
     "data": {
      "text/html": [
       "<div>\n",
       "<style scoped>\n",
       "    .dataframe tbody tr th:only-of-type {\n",
       "        vertical-align: middle;\n",
       "    }\n",
       "\n",
       "    .dataframe tbody tr th {\n",
       "        vertical-align: top;\n",
       "    }\n",
       "\n",
       "    .dataframe thead th {\n",
       "        text-align: right;\n",
       "    }\n",
       "</style>\n",
       "<table border=\"1\" class=\"dataframe\">\n",
       "  <thead>\n",
       "    <tr style=\"text-align: right;\">\n",
       "      <th></th>\n",
       "      <th>Actual</th>\n",
       "      <th>Predicted</th>\n",
       "    </tr>\n",
       "  </thead>\n",
       "  <tbody>\n",
       "    <tr>\n",
       "      <th>230</th>\n",
       "      <td>3153.954</td>\n",
       "      <td>3157.756267</td>\n",
       "    </tr>\n",
       "    <tr>\n",
       "      <th>2540</th>\n",
       "      <td>5389.932</td>\n",
       "      <td>5412.727900</td>\n",
       "    </tr>\n",
       "    <tr>\n",
       "      <th>1385</th>\n",
       "      <td>2200.000</td>\n",
       "      <td>2199.514656</td>\n",
       "    </tr>\n",
       "    <tr>\n",
       "      <th>1544</th>\n",
       "      <td>474.144</td>\n",
       "      <td>475.008211</td>\n",
       "    </tr>\n",
       "    <tr>\n",
       "      <th>3692</th>\n",
       "      <td>40.000</td>\n",
       "      <td>40.000000</td>\n",
       "    </tr>\n",
       "  </tbody>\n",
       "</table>\n",
       "</div>"
      ],
      "text/plain": [
       "        Actual    Predicted\n",
       "230   3153.954  3157.756267\n",
       "2540  5389.932  5412.727900\n",
       "1385  2200.000  2199.514656\n",
       "1544   474.144   475.008211\n",
       "3692    40.000    40.000000"
      ]
     },
     "execution_count": 31,
     "metadata": {},
     "output_type": "execute_result"
    }
   ],
   "source": [
    "df_check = pd.DataFrame({'Actual': y_test, 'Predicted': y_pred})\n",
    "df_check.head()"
   ]
  },
  {
   "cell_type": "code",
   "execution_count": 32,
   "metadata": {},
   "outputs": [
    {
     "data": {
      "image/png": "[encoded data removed]",
      "text/plain": [
       "<Figure size 720x360 with 1 Axes>"
      ]
     },
     "metadata": {},
     "output_type": "display_data"
    }
   ],
   "source": [
    "df_check = df_check.head(20)\n",
    "df_check = round(df_check,2)\n",
    "df_check.plot(kind='bar',figsize=(10,5))\n",
    "plt.grid(which='major', linestyle='-', linewidth='0.5', color='green')\n",
    "plt.title('Performance of Regression Model')\n",
    "plt.ylabel('Mean Squared Log Error')\n",
    "plt.show()"
   ]
  },
  {
   "cell_type": "markdown",
   "metadata": {},
   "source": [
    "We can say that our model estimates/predicts the Merchandise Profits by more than 99% accuracy on test set."
   ]
  },
  {
   "cell_type": "markdown",
   "metadata": {},
   "source": [
    "<font size = 5><b> <center>THE END"
   ]
  }
 ],
 "metadata": {
  "kernelspec": {
   "display_name": "Python 3",
   "language": "python",
   "name": "python3"
  },
  "language_info": {
   "codemirror_mode": {
    "name": "ipython",
    "version": 3
   },
   "file_extension": ".py",
   "mimetype": "text/x-python",
   "name": "python",
   "nbconvert_exporter": "python",
   "pygments_lexer": "ipython3",
   "version": "3.8.5"
  }
 },
 "nbformat": 4,
 "nbformat_minor": 4
}
